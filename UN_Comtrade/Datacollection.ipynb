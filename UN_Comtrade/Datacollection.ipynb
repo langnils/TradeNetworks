{
 "cells": [
  {
   "cell_type": "code",
   "execution_count": 2,
   "metadata": {},
   "outputs": [],
   "source": [
    "#This workbook gets the data from the UN Comtrade database and saves them as raw_all_data and import/export data\n",
    "import pandas as pd\n",
    "import comtradeapicall\n",
    "\n",
    "# Importing functions from Functions.py\n",
    "from Functions import generate_year_range_string, generate_comma_separated_string, clean_dataframe, plot_bar_chart, fix_datatypes\n",
    "from Functions import drop_columns_by_index,print_columns,drop_rows_by_index_value,get_values_and_frequencies\n",
    "\n",
    "\n",
    "with open('../Data/Key/subscription_key.txt') as f: subscription_key = f.read().strip()\n",
    "directory = '/UN_Comtrade_Data'  # output directory for downloaded files \n",
    "\n",
    "#set some variables\n",
    "from datetime import date\n",
    "from datetime import timedelta\n",
    "today = date.today()\n",
    "yesterday = today - timedelta(days=1)\n",
    "lastweek = today - timedelta(days=7)\n",
    "\n",
    "# Commodity Codes to be downloaded\n",
    "#commodity_codes = [\"280530\", \"284610\", \"284690\", \"850511\"]\n",
    "commodity_codes = [\"253090\",\"280530\", \"284610\", \"284690\", \"850511\"]\n",
    "commodity_codes_string = generate_comma_separated_string(commodity_codes)"
   ]
  },
  {
   "cell_type": "code",
   "execution_count": 3,
   "metadata": {},
   "outputs": [],
   "source": [
    "# Additional Infos\n",
    "#reference_df = comtradeapicall.listReference()"
   ]
  },
  {
   "cell_type": "code",
   "execution_count": 4,
   "metadata": {},
   "outputs": [
    {
     "name": "stdout",
     "output_type": "stream",
     "text": [
      "1989:2017\n",
      "1990:2227\n",
      "1991:2781\n",
      "1992:3862\n",
      "1993:4776\n",
      "1994:6099\n",
      "1995:6577\n",
      "1996:7140\n",
      "1997:7609\n",
      "1998:7994\n",
      "1999:7954\n",
      "2000:9348\n"
     ]
    },
    {
     "name": "stderr",
     "output_type": "stream",
     "text": [
      "C:\\Users\\nilsl\\AppData\\Local\\Temp\\ipykernel_41552\\3303766639.py:28: FutureWarning: The behavior of DataFrame concatenation with empty or all-NA entries is deprecated. In a future version, this will no longer exclude empty or all-NA columns when determining the result dtypes. To retain the old behavior, exclude the relevant entries before the concat operation.\n",
      "  all_data_df = pd.concat([all_data_df, df], ignore_index=True)\n"
     ]
    },
    {
     "name": "stdout",
     "output_type": "stream",
     "text": [
      "2001:9615\n",
      "2002:10018\n",
      "2003:10286\n",
      "2004:10905\n",
      "2005:11162\n",
      "2006:11516\n",
      "2007:12129\n",
      "2008:12495\n",
      "2009:12369\n",
      "2010:13126\n",
      "2011:13811\n",
      "2012:14223\n",
      "2013:14532\n",
      "2014:14789\n",
      "2015:15328\n",
      "2016:15111\n",
      "2017:15721\n",
      "2018:15985\n",
      "2019:16292\n",
      "2020:15591\n",
      "2021:16493\n",
      "2022:16637\n",
      "2023:16616\n",
      "2024:14281\n"
     ]
    }
   ],
   "source": [
    "# Define your parameters (adjust as needed)\n",
    "typeCode = 'C'\n",
    "freqCode = 'A'\n",
    "clCode = 'HS'\n",
    "period_start = 1989\n",
    "period_end = 2024  \n",
    "maxRecords = 100000\n",
    "format_output = 'JSON'\n",
    "\n",
    "# Initialize an empty DataFrame to store the results\n",
    "all_data_df = pd.DataFrame()\n",
    "\n",
    "# Iterate over the years\n",
    "for year in range(period_start, period_end + 1):\n",
    "    df = comtradeapicall.getFinalData(subscription_key, typeCode, freqCode, clCode, year,\n",
    "                                      reporterCode=None, cmdCode=commodity_codes_string, flowCode=None,\n",
    "                                      partnerCode=None, partner2Code=None,\n",
    "                                      customsCode=None, motCode=None, maxRecords=maxRecords,\n",
    "                                      format_output=format_output, aggregateBy=None,\n",
    "                                      breakdownMode='classic', countOnly=None, includeDesc=True)\n",
    "    \n",
    "    if len(df.index) == maxRecords:\n",
    "        print(\"More Max records than defined! Data will be missing!\")\n",
    "\n",
    "    print(f\"{year}:{len(df.index)}\")\n",
    "\n",
    "    #Combine the two API-Calls\n",
    "    all_data_df = pd.concat([all_data_df, df], ignore_index=True)"
   ]
  },
  {
   "cell_type": "code",
   "execution_count": 6,
   "metadata": {},
   "outputs": [],
   "source": [
    "# Save the Dataframe with all the trade data about rare metals into a file and call it raw, since there was no selection yet\n",
    "all_data_df.to_csv('../Data/raw_data_df.csv', index=False)"
   ]
  }
 ],
 "metadata": {
  "kernelspec": {
   "display_name": "Python 3",
   "language": "python",
   "name": "python3"
  },
  "language_info": {
   "codemirror_mode": {
    "name": "ipython",
    "version": 3
   },
   "file_extension": ".py",
   "mimetype": "text/x-python",
   "name": "python",
   "nbconvert_exporter": "python",
   "pygments_lexer": "ipython3",
   "version": "3.11.9"
  }
 },
 "nbformat": 4,
 "nbformat_minor": 2
}
